{
 "cells": [
  {
   "cell_type": "markdown",
   "metadata": {},
   "source": [
    "### COIN VALUE ESTIMATION USING IMAGE SEGMENTATION\n",
    "\n",
    "> [Project Goal](#goal)"
   ]
  },
  {
   "cell_type": "markdown",
   "metadata": {},
   "source": [
    "<a id=\"goal\"></a>\n",
    "#### PROJECT GOAL\n",
    "\n",
    "In this project we'll look at how we can **read an image** and **identify the number of coins in that image.** \n",
    "Also we'll guess the total value of coins.\n",
    "\n",
    "Here's a sample image\n",
    "\n",
    "<img src = \"./coins/1.jpg\" width = 200 height = 200>"
   ]
  },
  {
   "cell_type": "markdown",
   "metadata": {},
   "source": [
    "<a id=\"process\"></a>\n",
    "#### PROCESS\n",
    "\n",
    "We'll follow the following steps\n",
    "\n",
    "> "
   ]
  },
  {
   "cell_type": "markdown",
   "metadata": {},
   "source": [
    "Among the various imaging libraries available in Python, I'll be using the **Scikit-image** library. Most of these libraries are open source and are free to use. \n",
    "\n",
    "For more such libraries, [click here](https://analyticsindiamag.com/top-8-image-processing-libraries-in-python/)"
   ]
  },
  {
   "cell_type": "code",
   "execution_count": null,
   "metadata": {},
   "outputs": [],
   "source": [
    "''' Run this to install the library. '''\n",
    "\n",
    "pip install scikit-image"
   ]
  },
  {
   "cell_type": "markdown",
   "metadata": {},
   "source": [
    "After the installation is complete. \n",
    "\n",
    "[Click here](https://scikit-image.org/docs/stable/user_guide/getting_started.html) to know more about **scikit-image.**\n",
    "\n",
    "> Scikit-image is an image processing Python package that works with numpy arrays. The package is imported as ```import skimage```"
   ]
  },
  {
   "cell_type": "code",
   "execution_count": null,
   "metadata": {
    "scrolled": true
   },
   "outputs": [],
   "source": [
    "import os\n",
    "import skimage\n",
    "from skimage import data, io, filters\n",
    "\n",
    "'''Since we'll be working with our local files, so importing the os module.'''\n",
    "\n",
    "path = os.path.join(skimage.data_dir, r'C:\\Users\\PRANIT\\Desktop\\Online_Lessons\\Python_Bootcamp\\coins\\1.jpg')\n",
    "image = io.imread(path)\n",
    "type(image)"
   ]
  },
  {
   "cell_type": "code",
   "execution_count": null,
   "metadata": {},
   "outputs": [],
   "source": [
    "''' Start by looking at the basic details of the file.\n",
    "    \n",
    "    The trailing 3 in the shape function shows that the image is\n",
    "    a colored one.\n",
    "'''\n",
    "\n",
    "image.shape"
   ]
  },
  {
   "cell_type": "code",
   "execution_count": null,
   "metadata": {},
   "outputs": [],
   "source": [
    "image.size"
   ]
  },
  {
   "cell_type": "code",
   "execution_count": null,
   "metadata": {},
   "outputs": [],
   "source": [
    "image.min(), image.max()"
   ]
  },
  {
   "cell_type": "code",
   "execution_count": null,
   "metadata": {},
   "outputs": [],
   "source": [
    "image.mean()"
   ]
  },
  {
   "cell_type": "code",
   "execution_count": null,
   "metadata": {},
   "outputs": [],
   "source": [
    "from skimage.color import rgb2gray\n",
    "import matplotlib.pyplot as plt\n",
    "\n",
    "coins = rgb2gray(image)\n",
    "\n",
    "fig, axes = plt.subplots(1, 2, figsize=(8, 4))\n",
    "ax = axes.ravel()\n",
    "\n",
    "ax[0].imshow(image)\n",
    "ax[0].set_title(\"Color\")\n",
    "ax[1].imshow(coins, cmap=plt.cm.gray)\n",
    "ax[1].set_title(\"Grayscale\")\n",
    "\n",
    "fig.tight_layout()\n",
    "plt.show()"
   ]
  },
  {
   "cell_type": "markdown",
   "metadata": {},
   "source": [
    "#### IMAGE THRESHOLDING\n",
    "\n",
    "This method is used to separate the target parts from the background by using the power of contrast. Sometimes simple thresold can work just fine.\n",
    "Image threshold is done using the help of histogram of gray colors. We can see below, that our image is more concentrated towards gray > 0.5 (~128-255)\n",
    "\n",
    "\n",
    "**Note:** Simply thresholding the image leads either to missing significant parts of the coins, or to merging parts of the background with the coins. This is due to the inhomogeneous lighting of the image.\n"
   ]
  },
  {
   "cell_type": "code",
   "execution_count": null,
   "metadata": {
    "scrolled": true
   },
   "outputs": [],
   "source": [
    "from skimage.exposure import histogram\n",
    "\n",
    "hist, hist_centers = histogram(coins)\n",
    "\n",
    "fig, axes = plt.subplots(1, 2, figsize=(8, 4))\n",
    "ax = axes.ravel()\n",
    "\n",
    "ax[0].plot(hist_centers, hist, '-')\n",
    "ax[0].set_title(\"Histogram\")\n",
    "ax[1].imshow(coins>0.5, cmap = plt.cm.gray)\n",
    "ax[1].set_title(\"Image threshold\")\n"
   ]
  },
  {
   "cell_type": "markdown",
   "metadata": {},
   "source": [
    "#### EDGE BASED SEGMENTATION\n",
    "\n",
    "> For **edge based detection** we'll use [Canny Detector](https://en.wikipedia.org/wiki/Canny_edge_detector), which can be imported from ```skimage.feature```\n",
    "\n",
    "But edge-based detection seems to fail in our case."
   ]
  },
  {
   "cell_type": "code",
   "execution_count": null,
   "metadata": {},
   "outputs": [],
   "source": [
    "from skimage.feature import canny\n",
    "edges = canny(coins, low_threshold = 0, high_threshold = 1.0)"
   ]
  },
  {
   "cell_type": "code",
   "execution_count": null,
   "metadata": {},
   "outputs": [],
   "source": [
    "from scipy import ndimage as ndi\n",
    "fill_coins = ndi.binary_fill_holes(edges)"
   ]
  },
  {
   "cell_type": "code",
   "execution_count": null,
   "metadata": {
    "scrolled": true
   },
   "outputs": [],
   "source": [
    "fig, axes = plt.subplots(1, 2, figsize=(8, 4))\n",
    "ax = axes.ravel()\n",
    "\n",
    "ax[0].imshow(edges)\n",
    "ax[0].set_title(\"Edge Segmentation\")\n",
    "ax[1].imshow(fill_coins, cmap = plt.cm.gray)\n",
    "ax[1].set_title(\"Filling the gaps\")"
   ]
  },
  {
   "cell_type": "markdown",
   "metadata": {},
   "source": [
    "#### REGION BASED SEGMENTATION"
   ]
  },
  {
   "cell_type": "code",
   "execution_count": null,
   "metadata": {},
   "outputs": [],
   "source": [
    "import numpy as np\n",
    "\n",
    "markers = np.zeros_like(coins)\n",
    "markers[coins < 0.5] = 1\n",
    "markers[coins > 0.5] = 2\n",
    "\n",
    "from skimage.filters import sobel\n",
    "elevation_map = sobel(coins)\n",
    "\n",
    "from skimage.morphology import watershed\n",
    "segmentation = watershed(elevation_map, markers)"
   ]
  },
  {
   "cell_type": "code",
   "execution_count": null,
   "metadata": {
    "scrolled": true
   },
   "outputs": [],
   "source": [
    "# plt.imshow(segmentation, cmap = plt.cm.gray)\n",
    "\n",
    "fig, axes = plt.subplots(1, 2, figsize=(8, 4))\n",
    "ax = axes.ravel()\n",
    "\n",
    "ax[0].imshow(elevation_map)\n",
    "ax[0].set_title(\"Region Segmentation\")\n",
    "ax[1].imshow(segmentation, cmap = plt.cm.gray)\n",
    "ax[1].set_title(\"After watershed\")\n",
    "\n",
    "plt.show()"
   ]
  },
  {
   "cell_type": "code",
   "execution_count": null,
   "metadata": {},
   "outputs": [],
   "source": [
    "import numpy as np\n",
    "import matplotlib.pyplot as plt\n",
    "import os\n",
    "from skimage import data, color, io, data_dir\n",
    "from skimage.transform import hough_circle\n",
    "from skimage.feature import peak_local_max, canny\n",
    "from skimage.draw import circle_perimeter\n",
    "\n",
    "# Load picture \n",
    "path = os.path.join(data_dir, r'C:\\Users\\PRANIT\\Desktop\\Online_Lessons\\Python_Bootcamp\\coins\\1.jpg')\n",
    "img = io.imread(path)\n",
    "image = color.rgb2gray(img)"
   ]
  },
  {
   "cell_type": "code",
   "execution_count": null,
   "metadata": {
    "scrolled": true
   },
   "outputs": [],
   "source": [
    "# detecting edges\n",
    "edges = canny(image, sigma=1, low_threshold=0, high_threshold=1, use_quantiles=True)"
   ]
  },
  {
   "cell_type": "code",
   "execution_count": null,
   "metadata": {
    "scrolled": false
   },
   "outputs": [],
   "source": [
    "\n",
    "fig, ax = plt.subplots(ncols=1, nrows=1, figsize=(6, 6))\n",
    "\n",
    "# what range does the radius of the coin lie.\n",
    "hough_radii = np.arange(15, 40, 2)\n",
    "hough_result = hough_circle(edges, hough_radii)\n",
    "\n",
    "centers = []\n",
    "accums = []\n",
    "radii = []\n",
    "\n",
    "for radius, h in zip(hough_radii, hough_result):\n",
    "    # For each radius, extract two circles\n",
    "    peaks = peak_local_max(h, num_peaks=2)\n",
    "    centers.extend(peaks - hough_radii.max())\n",
    "    accums.extend(h[peaks[:, 0], peaks[:, 1]])\n",
    "    radii.extend([radius, radius])\n",
    "\n",
    "# # Draw the most prominent 5 circles\n",
    "image = color.gray2rgb(image)\n",
    "for idx in np.argsort(accums)[::-1][:13]:\n",
    "    center_x, center_y = centers[idx]\n",
    "    radius = radii[idx]\n",
    "    cx, cy = circle_perimeter(center_y, center_x, radius)\n",
    "    image[cy, cx] = (220, 20, 20)\n",
    "\n",
    "ax.imshow(image, cmap=plt.cm.gray)\n",
    "plt.show()"
   ]
  },
  {
   "cell_type": "code",
   "execution_count": null,
   "metadata": {},
   "outputs": [],
   "source": [
    "import numpy as np\n",
    "import matplotlib.pyplot as plt\n",
    "\n",
    "from skimage import data, color, io\n",
    "from skimage.transform import hough_circle\n",
    "from skimage.feature import peak_local_max, canny\n",
    "from skimage.draw import circle_perimeter"
   ]
  },
  {
   "cell_type": "markdown",
   "metadata": {},
   "source": [
    "> ```sklearn.data``` contains **sample images** to start with.\n",
    "\n",
    "> ```sklearn.color``` contains various **color conversions.**\n",
    "\n",
    "> ```sklearn.io``` utilities to **read and write images** in various formats and through various libraries.\n",
    "\n",
    "> ```sklearn.transform.hough_circle``` used to **detect lines** in images, but recently **circle & ellipses** too.\n",
    "\n",
    "> ```sklearn.feature.peak_local_maxima``` used to find the **area with maximum color intensity.**\n",
    "\n",
    "> ```sklearn.feature.canny``` primarily used for **edge detection.**\n",
    "\n",
    "> ```sklearn.draw.circle_perimeter``` **generates coordinates for the circle perimeter**, radius, diameter etc.\n"
   ]
  },
  {
   "cell_type": "markdown",
   "metadata": {},
   "source": [
    "Hough Circle parameters\n",
    "\n",
    "- **image**: Input image (grayscale)\n",
    "- **circles**: A vector that stores sets of 3 values: x_{c}, y_{c}, r for each detected circle.\n",
    "- **CV_HOUGH_GRADIENT**: Define the detection method. Currently this is the only one available in OpenCV\n",
    "- **dp = 1**: The inverse ratio of resolution\n",
    "- **min_dist = src_gray.rows/8**: Minimum distance between detected centers\n",
    "- **param_1 = 200**: Upper threshold for the internal Canny edge detector\n",
    "- **param_2 = 100**: Threshold for center detection.\n",
    "- **min_radius = 0**: Minimum radio to be detected. If unknown, put zero as default.\n",
    "- **max_radius = 0**: Maximum radius to be detected. If unknown, put zero as default"
   ]
  },
  {
   "cell_type": "code",
   "execution_count": 114,
   "metadata": {},
   "outputs": [],
   "source": [
    "import numpy as np\n",
    "import cv2\n",
    "from skimage import color\n",
    "\n",
    "image = cv2.imread(r'c:/Users/PRANIT/Desktop/Online_Lessons/Python_Bootcamp/coins/1.jpg', cv2.IMREAD_GRAYSCALE)\n",
    "original = cv2.imread(r'c:/Users/PRANIT/Desktop/Online_Lessons/Python_Bootcamp/coins/1.jpg', 1)"
   ]
  },
  {
   "cell_type": "code",
   "execution_count": 115,
   "metadata": {},
   "outputs": [],
   "source": [
    "image = cv2.GaussianBlur(image, (5, 5), 0)\n",
    "original_copy = original.copy()\n",
    "circles = cv2.HoughCircles(image, cv2.HOUGH_GRADIENT, 1, 10, param1=100, param2=80, minRadius=0, maxRadius=0 ) #1\n",
    "# circles = cv2.HoughCircles(image, cv2.HOUGH_GRADIENT, 1, 10, param1=100, param2=69, minRadius=0, maxRadius=0 ) #2\n",
    "# circles = cv2.HoughCircles(image, cv2.HOUGH_GRADIENT, 1, 10, param1=100, param2=57, minRadius=0, maxRadius=0 ) #3\n",
    "# circles = cv2.HoughCircles(image, cv2.HOUGH_GRADIENT, 1, 10, param1=100, param2=63, minRadius=0, maxRadius=0 ) #4\n",
    "# circles = cv2.HoughCircles(image, cv2.HOUGH_GRADIENT, 1, 10, param1=100, param2=70, minRadius=0, maxRadius=0 ) #5\n",
    "# circles = cv2.HoughCircles(image, cv2.HOUGH_GRADIENT, 1, 10, param1=100, param2=80, minRadius=0, maxRadius=0 ) #6\n",
    "# circles = cv2.HoughCircles(image, cv2.HOUGH_GRADIENT, 1, 10, param1=100, param2=80, minRadius=0, maxRadius=0 ) #7\n",
    "# circles = cv2.HoughCircles(image, cv2.HOUGH_GRADIENT, 1, 10, param1=100, param2=97, minRadius=0, maxRadius=0 ) #8\n",
    "# circles = cv2.HoughCircles(image, cv2.HOUGH_GRADIENT, 1, 10, param1=100, param2=88, minRadius=0, maxRadius=0 ) #9"
   ]
  },
  {
   "cell_type": "code",
   "execution_count": 116,
   "metadata": {
    "scrolled": true
   },
   "outputs": [],
   "source": [
    "circles = np.uint16(np.around(circles))\n",
    "for i in circles[0]:\n",
    "    cv2.circle(original_copy, (i[0], i[1]), i[2], (0, 255, 0), 2)\n",
    "    cv2.circle(original_copy, (i[0], i[1]), 2, (0, 0, 255), 3)"
   ]
  },
  {
   "cell_type": "code",
   "execution_count": 117,
   "metadata": {},
   "outputs": [],
   "source": [
    "def get_radius(circles):\n",
    "    radius = []\n",
    "    for each_coord in circles[0]:\n",
    "        radius.append(each_coord[2])\n",
    "    return radius\n",
    "\n",
    "radii = get_radius(circles)"
   ]
  },
  {
   "cell_type": "code",
   "execution_count": 118,
   "metadata": {},
   "outputs": [
    {
     "data": {
      "text/plain": [
       "[2, 5, 2, 5, 2, 5, 2, 2, 5, 2]"
      ]
     },
     "execution_count": 118,
     "metadata": {},
     "output_type": "execute_result"
    }
   ],
   "source": [
    "values = []\n",
    "for i in radii:\n",
    "    if i <= 36:\n",
    "        values.append(1)\n",
    "    elif i > 36 and i < 40:\n",
    "        values.append(5)\n",
    "    elif i >= 40:\n",
    "        values.append(2)\n",
    "\n",
    "values"
   ]
  },
  {
   "cell_type": "code",
   "execution_count": 123,
   "metadata": {
    "scrolled": true
   },
   "outputs": [
    {
     "data": {
      "text/plain": [
       "array([[[172, 154, 153],\n",
       "        [172, 154, 153],\n",
       "        [172, 154, 153],\n",
       "        ...,\n",
       "        [175, 157, 158],\n",
       "        [175, 157, 158],\n",
       "        [175, 157, 158]],\n",
       "\n",
       "       [[172, 154, 153],\n",
       "        [172, 154, 153],\n",
       "        [172, 154, 153],\n",
       "        ...,\n",
       "        [175, 157, 158],\n",
       "        [175, 157, 158],\n",
       "        [175, 157, 158]],\n",
       "\n",
       "       [[172, 154, 153],\n",
       "        [172, 154, 153],\n",
       "        [172, 154, 153],\n",
       "        ...,\n",
       "        [175, 157, 158],\n",
       "        [175, 157, 158],\n",
       "        [174, 156, 157]],\n",
       "\n",
       "       ...,\n",
       "\n",
       "       [[156, 136, 135],\n",
       "        [155, 135, 134],\n",
       "        [155, 135, 134],\n",
       "        ...,\n",
       "        [162, 144, 145],\n",
       "        [163, 145, 146],\n",
       "        [163, 145, 146]],\n",
       "\n",
       "       [[156, 136, 135],\n",
       "        [155, 135, 134],\n",
       "        [155, 135, 134],\n",
       "        ...,\n",
       "        [161, 143, 144],\n",
       "        [161, 143, 144],\n",
       "        [162, 144, 145]],\n",
       "\n",
       "       [[156, 136, 135],\n",
       "        [155, 135, 134],\n",
       "        [155, 135, 134],\n",
       "        ...,\n",
       "        [160, 142, 143],\n",
       "        [160, 142, 143],\n",
       "        [160, 142, 143]]], dtype=uint8)"
      ]
     },
     "execution_count": 123,
     "metadata": {},
     "output_type": "execute_result"
    }
   ],
   "source": [
    "count = 0\n",
    "for i in circles[0]:\n",
    "    cv2.putText(original_copy, str(values[count]), (i[0], i[1]), cv2.FONT_HERSHEY_SIMPLEX, 0.5, (0,250,0), 1)\n",
    "    count += 1\n",
    "    \n",
    "cv2.putText(original_copy, \"Estimated coin value: \" + str(sum(values)), (0, 30), cv2.FONT_HERSHEY_SIMPLEX, 0.7, (0,250,0), 2)\n",
    "  "
   ]
  },
  {
   "cell_type": "code",
   "execution_count": 124,
   "metadata": {},
   "outputs": [],
   "source": [
    "cv2.imshow(\"Detected Coins\", original_copy)\n",
    "cv2.waitKey(0)\n",
    "cv2.destroyAllWindows()"
   ]
  },
  {
   "cell_type": "code",
   "execution_count": null,
   "metadata": {},
   "outputs": [],
   "source": []
  },
  {
   "cell_type": "code",
   "execution_count": null,
   "metadata": {},
   "outputs": [],
   "source": []
  },
  {
   "cell_type": "code",
   "execution_count": null,
   "metadata": {},
   "outputs": [],
   "source": []
  },
  {
   "cell_type": "code",
   "execution_count": null,
   "metadata": {},
   "outputs": [],
   "source": []
  },
  {
   "cell_type": "code",
   "execution_count": null,
   "metadata": {},
   "outputs": [],
   "source": []
  },
  {
   "cell_type": "code",
   "execution_count": null,
   "metadata": {},
   "outputs": [],
   "source": []
  },
  {
   "cell_type": "code",
   "execution_count": null,
   "metadata": {},
   "outputs": [],
   "source": []
  },
  {
   "cell_type": "markdown",
   "metadata": {},
   "source": [
    "#### BONUS PROGRAM | Region Adjacency Graph\n",
    "\n",
    "Here's a detailed one [RAG](https://vcansimplify.wordpress.com/2014/07/06/scikit-image-rag-introduction/)"
   ]
  },
  {
   "cell_type": "code",
   "execution_count": null,
   "metadata": {
    "scrolled": true
   },
   "outputs": [],
   "source": [
    "from skimage import graph, data, io, segmentation, color\n",
    "from matplotlib import pyplot as plt\n",
    "from skimage.measure import regionprops\n",
    "from skimage import draw\n",
    "import numpy as np\n",
    " \n",
    "\n",
    "def show_img(img):\n",
    "    width = 10.0\n",
    "    height = img.shape[0]*width/img.shape[1]\n",
    "    f = plt.figure(figsize=(width, height))\n",
    "    plt.imshow(img)\n",
    " \n",
    "path = os.path.join(skimage.data_dir, r'C:\\Users\\PRANIT\\Desktop\\Online_Lessons\\Python_Bootcamp\\k.jpg')\n",
    "img = io.imread(path)\n",
    "\n",
    "labels = segmentation.slic(img, compactness=30, n_segments=400)\n",
    "labels = labels + 1\n",
    "regions = regionprops(labels)\n",
    "\n",
    "label_rgb = color.label2rgb(labels, img, kind='avg')\n",
    "show_img(label_rgb)\n",
    "\n"
   ]
  },
  {
   "cell_type": "code",
   "execution_count": null,
   "metadata": {},
   "outputs": [],
   "source": []
  }
 ],
 "metadata": {
  "kernelspec": {
   "display_name": "Python 3",
   "language": "python",
   "name": "python3"
  },
  "language_info": {
   "codemirror_mode": {
    "name": "ipython",
    "version": 3
   },
   "file_extension": ".py",
   "mimetype": "text/x-python",
   "name": "python",
   "nbconvert_exporter": "python",
   "pygments_lexer": "ipython3",
   "version": "3.7.4"
  }
 },
 "nbformat": 4,
 "nbformat_minor": 4
}
