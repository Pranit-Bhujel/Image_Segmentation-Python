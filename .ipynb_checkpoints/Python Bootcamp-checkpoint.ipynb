{
 "cells": [
  {
   "cell_type": "markdown",
   "metadata": {},
   "source": [
    "### Classes and Objects in Python\n",
    "\n",
    "> The instance of a class is what we call an object.\n",
    "\n",
    "> All classes are inherited from a python class called **object** which stores all important functionality of a class."
   ]
  },
  {
   "cell_type": "code",
   "execution_count": 5,
   "metadata": {},
   "outputs": [],
   "source": [
    "''' creating the class to store a patient's information.'''\n",
    "\n",
    "class Patient(object):\n",
    "    '''Defines the information about a patient.'''\n",
    "    \n",
    "    status = \"Adult Patient\"\n",
    "    \n",
    "    def __init__(self, name, age):\n",
    "        self.name = name\n",
    "        self.age = age\n",
    "        self.conditions = []\n",
    "    \n",
    "    def get_details(self):\n",
    "        print(f'Patient record\\n'\\\n",
    "              f'\\tPatient name: {self.name}\\n'\\\n",
    "              f'\\tPatient age: {self.age}\\n'\\\n",
    "              f'\\tCurrent condition: {self.conditions}'\n",
    "             )\n",
    "    def add_info(self, information):\n",
    "        self.conditions.append(information)\n",
    "        "
   ]
  },
  {
   "cell_type": "code",
   "execution_count": 6,
   "metadata": {},
   "outputs": [],
   "source": [
    "pranit = Patient('Pranit', 22)"
   ]
  },
  {
   "cell_type": "code",
   "execution_count": 7,
   "metadata": {},
   "outputs": [
    {
     "name": "stdout",
     "output_type": "stream",
     "text": [
      "Patient record\n",
      "\tPatient name: Pranit\n",
      "\tPatient age: 22\n",
      "\tCurrent condition: []\n"
     ]
    }
   ],
   "source": [
    "pranit.get_details()"
   ]
  },
  {
   "cell_type": "markdown",
   "metadata": {},
   "source": [
    "### Inheritance\n",
    "\n",
    "> We've already been inheriting from teh object class, every time we create a class. But how do we inherit the class that we've created?\n"
   ]
  },
  {
   "cell_type": "code",
   "execution_count": 14,
   "metadata": {},
   "outputs": [],
   "source": [
    "class Infant(Patient):\n",
    "    '''Stores the information of infants.\n",
    "    \n",
    "       Attributes\n",
    "       ----------\n",
    "       name: Stores the name of patient\n",
    "       age: Stores the age\n",
    "       \n",
    "       add_info()\n",
    "           adds the condition of patient\n",
    "            \n",
    "       add_vac()\n",
    "           adds the vaccinations that the infant had.\n",
    "    '''\n",
    "    \n",
    "    def __init__(self, name, age):\n",
    "        self.vaccinations = []\n",
    "        super().__init__(name, age)\n",
    "        \n",
    "    def add_vac(self, vaccine):\n",
    "        self.vaccinations.append(vaccine)\n",
    "        \n",
    "    def get_info(self):\n",
    "        print(f'Infant record\\n'\\\n",
    "              f'\\tPatient name: {self.name}\\n'\\\n",
    "              f'\\tPatient age: {self.age}\\n'\\\n",
    "              f'\\tConditions: {self.conditions}\\n'\\\n",
    "              f'\\tVaccinations: {self.vaccinations}'\n",
    "             )"
   ]
  },
  {
   "cell_type": "code",
   "execution_count": 12,
   "metadata": {},
   "outputs": [],
   "source": [
    "ana = Infant('Ana', 5)\n",
    "ana.add_info('Severe head trauma')\n",
    "ana.add_vac('Polio')"
   ]
  },
  {
   "cell_type": "code",
   "execution_count": 13,
   "metadata": {},
   "outputs": [
    {
     "name": "stdout",
     "output_type": "stream",
     "text": [
      "Infant record\n",
      "\tPatient name: Ana\n",
      "\tPatient age: 5\n",
      "\tConditions: ['Severe head trauma']\n",
      "\tVaccinations: ['Polio']\n"
     ]
    }
   ],
   "source": [
    "ana.get_info()"
   ]
  },
  {
   "cell_type": "markdown",
   "metadata": {},
   "source": [
    "### Bank account\n",
    "\n",
    "> Users should be able to do the following\n",
    "\n",
    "- Create a bank account\n",
    "- See the current balance\n",
    "- Deposit the balance\n",
    "- Withdraw the balance"
   ]
  },
  {
   "cell_type": "code",
   "execution_count": 30,
   "metadata": {},
   "outputs": [],
   "source": [
    "class BankAccount(object):\n",
    "    '''Creates a bank account for the user\n",
    "    \n",
    "    Attributes\n",
    "    ----------\n",
    "    name: Stores the name of the person\n",
    "    age: Stores the age\n",
    "    address: Stores the address\n",
    "    gender: Stores the gender\n",
    "    balance: Stores the current balance\n",
    "    \n",
    "    Methods\n",
    "    -------\n",
    "    \n",
    "    display_balance()\n",
    "        Displays the current balance of the user.\n",
    "        \n",
    "    make_deposit()\n",
    "        Deposits the amount that the user inputs.\n",
    "    \n",
    "    make_withdrawl()\n",
    "        Withdraws an amount that the user inputs.\n",
    "    \n",
    "    '''\n",
    "    \n",
    "    def __init__(self, name, age=0, address=\"\", gender=\"\", balance=0.0):\n",
    "        self.name = name\n",
    "        self.age = age        \n",
    "        self.address = address        \n",
    "        self.gender = gender\n",
    "        self.balance = balance\n",
    "                 \n",
    "    def display_balance(self):\n",
    "        print(f\"Welcome {self.name} ,your bank balance is {self.balance}\")\n",
    "\n",
    "    def make_deposit(self):\n",
    "        amount = int(input(\"How much do you want to deposit\"))\n",
    "        self.balance += amount\n",
    "        print(f\"Amount successfully deposited. Your current balance is {self.balance}\")\n",
    "    \n",
    "    def make_withdrawl(self):\n",
    "        amount = int(input(\"How much do you want to withdraw\"))\n",
    "        self.balance -= amount\n",
    "        print(f\"Amount withdrawn. Your current balance is {self.balance}\")\n",
    "    "
   ]
  },
  {
   "cell_type": "code",
   "execution_count": 26,
   "metadata": {},
   "outputs": [],
   "source": [
    "pranit = BankAccount('Pranit', balance = 50000)"
   ]
  },
  {
   "cell_type": "code",
   "execution_count": 28,
   "metadata": {},
   "outputs": [
    {
     "name": "stdout",
     "output_type": "stream",
     "text": [
      "How much do you want to deposit100000\n",
      "Amount successfully deposited. Your current balance is 150000\n"
     ]
    }
   ],
   "source": [
    "pranit.make_deposit()"
   ]
  },
  {
   "cell_type": "code",
   "execution_count": 29,
   "metadata": {},
   "outputs": [
    {
     "name": "stdout",
     "output_type": "stream",
     "text": [
      "How much do you want to withdraw150000\n",
      "Amount withdrawn. Your current balance is 0\n"
     ]
    }
   ],
   "source": [
    "pranit.make_withdrawl()"
   ]
  },
  {
   "cell_type": "markdown",
   "metadata": {},
   "source": [
    "### Calculating circle area\n"
   ]
  },
  {
   "cell_type": "code",
   "execution_count": 36,
   "metadata": {},
   "outputs": [],
   "source": [
    "class Circle(object):\n",
    "    \n",
    "    def __init__(self, radius):\n",
    "        self.radius = radius\n",
    "        \n",
    "    def calc_area(self):\n",
    "        area = 3.14 * (self.radius**2) \n",
    "        print(f'Area of a circle having radius {self.radius} is {area}')"
   ]
  },
  {
   "cell_type": "code",
   "execution_count": 37,
   "metadata": {},
   "outputs": [],
   "source": [
    "c = Circle(25)"
   ]
  },
  {
   "cell_type": "code",
   "execution_count": 38,
   "metadata": {},
   "outputs": [
    {
     "name": "stdout",
     "output_type": "stream",
     "text": [
      "Area of a circle having radius 25 is 1962.5\n"
     ]
    }
   ],
   "source": [
    "c.calc_area()"
   ]
  },
  {
   "cell_type": "markdown",
   "metadata": {},
   "source": [
    "### Dictionary Comprehension"
   ]
  },
  {
   "cell_type": "code",
   "execution_count": 63,
   "metadata": {
    "scrolled": true
   },
   "outputs": [],
   "source": [
    "from collections import Counter\n",
    "\n",
    "para = 'A quick brown fox jumped over a lazy dog'\n",
    "new_d = dict(Counter(para.lower()))\n",
    "\n",
    "let_dict = {k:v for k,v in new_d.items() if k.isalpha()}"
   ]
  },
  {
   "cell_type": "code",
   "execution_count": 64,
   "metadata": {},
   "outputs": [
    {
     "data": {
      "image/png": "[encoded data removed]",
      "text/plain": [
       "<Figure size 432x288 with 1 Axes>"
      ]
     },
     "metadata": {
      "needs_background": "light"
     },
     "output_type": "display_data"
    }
   ],
   "source": [
    "import matplotlib.pyplot as plt\n",
    "%matplotlib inline\n",
    "x = list(let_dict.keys())\n",
    "y = list(let_dict.values())\n",
    "plt.bar(x, y)\n",
    "plt.show()"
   ]
  },
  {
   "cell_type": "code",
   "execution_count": 71,
   "metadata": {},
   "outputs": [
    {
     "data": {
      "text/plain": [
       "{0: 1, 1: 2, 2: 3, 3: 5, 4: 8, 5: 13, 6: 21, 7: 34, 8: 55, 9: 89}"
      ]
     },
     "execution_count": 71,
     "metadata": {},
     "output_type": "execute_result"
    }
   ],
   "source": [
    "fib = {}\n",
    "a = 0\n",
    "b = 1\n",
    "for i in range(10):\n",
    "    fib[i] = a + b\n",
    "    a = b\n",
    "    b = fib[i]\n",
    "\n",
    "fib"
   ]
  },
  {
   "cell_type": "markdown",
   "metadata": {},
   "source": [
    "### CAESER CIPHER\n",
    "\n",
    "> One way of doing it is using ASCII chars\n",
    "\n",
    "> Another way is to store the alphabets in a string and then use string indexing to get that."
   ]
  },
  {
   "cell_type": "code",
   "execution_count": 80,
   "metadata": {},
   "outputs": [],
   "source": [
    "''' ord for getting ASCII, chr for getting back the char.'''\n",
    "\n",
    "def encrypt(text, m):\n",
    "    encrypted = \"\"\n",
    "    for i in text:\n",
    "        if i == \" \":\n",
    "            encrypted += \" \"\n",
    "        else:    \n",
    "            encrypted += chr(ord(i) + m)\n",
    "    return encrypted   \n",
    "\n",
    "def decrypt(text, m):\n",
    "    decrypted = \"\"\n",
    "    for i in text:\n",
    "        if i == \" \":\n",
    "            decrypted += \" \"\n",
    "        else:    \n",
    "            decrypted += chr(ord(i) - m)\n",
    "    return decrypted  "
   ]
  },
  {
   "cell_type": "code",
   "execution_count": 81,
   "metadata": {},
   "outputs": [
    {
     "data": {
      "text/plain": [
       "'A cat is on the mat'"
      ]
     },
     "execution_count": 81,
     "metadata": {},
     "output_type": "execute_result"
    }
   ],
   "source": [
    "encrypt('A cat is on the mat', 5)\n",
    "decrypt('F hfy nx ts ymj rfy', 5)"
   ]
  },
  {
   "cell_type": "code",
   "execution_count": 84,
   "metadata": {},
   "outputs": [],
   "source": [
    "def two_sum(nums, target):\n",
    "    d = {}\n",
    "    \n",
    "    for i in range(len(nums)):\n",
    "        if (target - nums[i]) in d:\n",
    "            return (d[target- nums[i]], i)\n",
    "        d[nums[i]] = i "
   ]
  },
  {
   "cell_type": "code",
   "execution_count": 85,
   "metadata": {},
   "outputs": [
    {
     "data": {
      "text/plain": [
       "(2, 3)"
      ]
     },
     "execution_count": 85,
     "metadata": {},
     "output_type": "execute_result"
    }
   ],
   "source": [
    "two_sum([5,2,3,7], 10)"
   ]
  },
  {
   "cell_type": "markdown",
   "metadata": {},
   "source": [
    "### Random Walk"
   ]
  },
  {
   "cell_type": "code",
   "execution_count": 130,
   "metadata": {},
   "outputs": [],
   "source": [
    "'''random.choice(step_option) also produces a random number.'''\n",
    "\n",
    "import random\n",
    "def random_walk(length):\n",
    "    walk = []\n",
    "    cord = 0\n",
    "    for i in range(length):\n",
    "        if random.randrange(0,2,1) == 1:\n",
    "            cord += 1\n",
    "        else:\n",
    "            cord -= 1\n",
    "        walk.append(cord)\n",
    "        \n",
    "    return walk  "
   ]
  },
  {
   "cell_type": "code",
   "execution_count": 151,
   "metadata": {
    "scrolled": true
   },
   "outputs": [
    {
     "data": {
      "image/png": "[encoded data removed]",
      "text/plain": [
       "<Figure size 432x288 with 1 Axes>"
      ]
     },
     "metadata": {
      "needs_background": "light"
     },
     "output_type": "display_data"
    }
   ],
   "source": [
    "import matplotlib.pyplot as plt\n",
    "%matplotlib inline\n",
    "\n",
    "for i in range(5):\n",
    "    plt.title('Random walk')\n",
    "    plt.xlabel('Number of steps')\n",
    "    plt.ylabel('Distance from origin')\n",
    "    plt.plot(range(100), random_walk(100), '.', label=\"Plot number: \" + str(i))\n",
    "    plt.legend(loc='lower left')\n",
    "plt.show()"
   ]
  },
  {
   "cell_type": "markdown",
   "metadata": {},
   "source": [
    "### Sierpinski Triangle Transformation"
   ]
  },
  {
   "cell_type": "code",
   "execution_count": 153,
   "metadata": {},
   "outputs": [],
   "source": [
    "class Transform(object):\n",
    "    '''Transforms the given set of coordinates'''\n",
    "    \n",
    "    def __init__(self, x, y):\n",
    "        self.x = x\n",
    "        self.y = y\n",
    "        \n",
    "    def trans1(self):\n",
    "        return (0.5 * self.x, 0.5 * self.y)\n",
    "    \n",
    "    def trans2(self):\n",
    "        return((0.5 * self.x + 0.5), (0.5 * self.y + 0.5))\n",
    "    \n",
    "    def trans3(self):\n",
    "        return((0.5 * self.x + 1), (0.5 * self.y))\n"
   ]
  },
  {
   "cell_type": "code",
   "execution_count": 157,
   "metadata": {},
   "outputs": [
    {
     "ename": "AttributeError",
     "evalue": "'Transform' object has no attribute 'pick'",
     "output_type": "error",
     "traceback": [
      "\u001b[1;31m---------------------------------------------------------------------------\u001b[0m",
      "\u001b[1;31mAttributeError\u001b[0m                            Traceback (most recent call last)",
      "\u001b[1;32m<ipython-input-157-c82a443d56d2>\u001b[0m in \u001b[0;36m<module>\u001b[1;34m\u001b[0m\n\u001b[0;32m      6\u001b[0m \u001b[0mtriangle\u001b[0m \u001b[1;33m=\u001b[0m \u001b[1;33m[\u001b[0m\u001b[1;33m]\u001b[0m\u001b[1;33m\u001b[0m\u001b[1;33m\u001b[0m\u001b[0m\n\u001b[0;32m      7\u001b[0m \u001b[0mpick\u001b[0m \u001b[1;33m=\u001b[0m \u001b[0mchoice\u001b[0m\u001b[1;33m(\u001b[0m\u001b[1;33m[\u001b[0m\u001b[1;34m'trans1'\u001b[0m\u001b[1;33m,\u001b[0m \u001b[1;34m'trans2'\u001b[0m\u001b[1;33m,\u001b[0m \u001b[1;34m'trans3'\u001b[0m\u001b[1;33m]\u001b[0m\u001b[1;33m)\u001b[0m\u001b[1;33m\u001b[0m\u001b[1;33m\u001b[0m\u001b[0m\n\u001b[1;32m----> 8\u001b[1;33m \u001b[0mtriangle\u001b[0m\u001b[1;33m.\u001b[0m\u001b[0mappend\u001b[0m\u001b[1;33m(\u001b[0m\u001b[0mstt\u001b[0m\u001b[1;33m.\u001b[0m\u001b[0mpick\u001b[0m\u001b[1;33m)\u001b[0m\u001b[1;33m\u001b[0m\u001b[1;33m\u001b[0m\u001b[0m\n\u001b[0m\u001b[0;32m      9\u001b[0m \u001b[0mplt\u001b[0m\u001b[1;33m.\u001b[0m\u001b[0mplot\u001b[0m\u001b[1;33m(\u001b[0m\u001b[0mtriangle\u001b[0m\u001b[1;33m)\u001b[0m\u001b[1;33m\u001b[0m\u001b[1;33m\u001b[0m\u001b[0m\n",
      "\u001b[1;31mAttributeError\u001b[0m: 'Transform' object has no attribute 'pick'"
     ]
    }
   ],
   "source": [
    "from random import choice\n",
    "import matplotlib.pyplot as plt\n",
    "%matplotlib inline\n",
    "\n",
    "triangle = []\n",
    "pick = choice(['trans1', 'trans2', 'trans3'])\n",
    "triangle.append(pick())\n",
    "plt.plot(triangle)"
   ]
  },
  {
   "cell_type": "code",
   "execution_count": 158,
   "metadata": {},
   "outputs": [
    {
     "data": {
      "text/plain": [
       "'trans1'"
      ]
     },
     "execution_count": 158,
     "metadata": {},
     "output_type": "execute_result"
    }
   ],
   "source": [
    "from random import choice\n",
    "pick = choice(['trans1', 'trans2', 'trans3'])\n",
    "pick"
   ]
  },
  {
   "cell_type": "code",
   "execution_count": null,
   "metadata": {},
   "outputs": [],
   "source": []
  }
 ],
 "metadata": {
  "kernelspec": {
   "display_name": "Python 3",
   "language": "python",
   "name": "python3"
  },
  "language_info": {
   "codemirror_mode": {
    "name": "ipython",
    "version": 3
   },
   "file_extension": ".py",
   "mimetype": "text/x-python",
   "name": "python",
   "nbconvert_exporter": "python",
   "pygments_lexer": "ipython3",
   "version": "3.7.4"
  }
 },
 "nbformat": 4,
 "nbformat_minor": 4
}
